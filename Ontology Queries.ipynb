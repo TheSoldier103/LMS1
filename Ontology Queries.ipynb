{
 "cells": [
  {
   "cell_type": "code",
   "execution_count": 2,
   "metadata": {},
   "outputs": [
    {
     "name": "stderr",
     "output_type": "stream",
     "text": [
      "* Owlready2 * Warning: optimized Cython parser module 'owlready2_optimized' is not available, defaulting to slower Python implementation\n"
     ]
    }
   ],
   "source": [
    "import sparql, re, types, itertools\n",
    "from owlready2 import *"
   ]
  },
  {
   "cell_type": "code",
   "execution_count": 40,
   "metadata": {},
   "outputs": [],
   "source": [
    "onto = get_ontology(\"file:///home/ufuoma/draft_ontology\").load()"
   ]
  },
  {
   "cell_type": "code",
   "execution_count": 56,
   "metadata": {},
   "outputs": [],
   "source": [
    "name = 'Student103'\n",
    "userName = eval('onto.' + name)"
   ]
  },
  {
   "cell_type": "code",
   "execution_count": 72,
   "metadata": {},
   "outputs": [
    {
     "data": {
      "text/plain": [
       "[draft_ontology.LO28,\n",
       " draft_ontology.LO19,\n",
       " draft_ontology.LO21,\n",
       " draft_ontology.LO16,\n",
       " draft_ontology.LO12,\n",
       " draft_ontology.LO27,\n",
       " draft_ontology.LO11,\n",
       " draft_ontology.LO14,\n",
       " draft_ontology.LO1,\n",
       " draft_ontology.LO32,\n",
       " draft_ontology.LO13,\n",
       " draft_ontology.LO5,\n",
       " draft_ontology.LO6,\n",
       " draft_ontology.LO24,\n",
       " draft_ontology.LO15,\n",
       " draft_ontology.LO17,\n",
       " draft_ontology.LO4,\n",
       " draft_ontology.LO8,\n",
       " draft_ontology.LO9,\n",
       " draft_ontology.LO23,\n",
       " draft_ontology.LO7,\n",
       " draft_ontology.LO10,\n",
       " draft_ontology.LO22,\n",
       " draft_ontology.LO20,\n",
       " draft_ontology.LO25,\n",
       " draft_ontology.LO26,\n",
       " draft_ontology.LO31,\n",
       " draft_ontology.LO2,\n",
       " draft_ontology.LO29,\n",
       " draft_ontology.LO33,\n",
       " draft_ontology.LO18,\n",
       " draft_ontology.LO30]"
      ]
     },
     "execution_count": 72,
     "metadata": {},
     "output_type": "execute_result"
    }
   ],
   "source": [
    "onto.Student103.isSuitedTo"
   ]
  },
  {
   "cell_type": "code",
   "execution_count": 68,
   "metadata": {},
   "outputs": [],
   "source": [
    "for lo in userName.isSuitedTo:\n",
    "    #print (lo)\n",
    "    my_list.append(re.sub('draft_ontology.','', str(lo)))"
   ]
  },
  {
   "cell_type": "code",
   "execution_count": 69,
   "metadata": {},
   "outputs": [
    {
     "name": "stdout",
     "output_type": "stream",
     "text": [
      "['LO28', 'LO19', 'LO21', 'LO16', 'LO12', 'LO27', 'LO11', 'LO14', 'LO1', 'LO32', 'LO13', 'LO5', 'LO6', 'LO24', 'LO15', 'LO17', 'LO4', 'LO8', 'LO9', 'LO23', 'LO7', 'LO10', 'LO22', 'LO20', 'LO25', 'LO26', 'LO31', 'LO2', 'LO29', 'LO33', 'LO18', 'LO30']\n"
     ]
    }
   ],
   "source": [
    "print(my_list)"
   ]
  },
  {
   "cell_type": "code",
   "execution_count": 71,
   "metadata": {},
   "outputs": [
    {
     "name": "stdout",
     "output_type": "stream",
     "text": [
      "[\"LO28\", \"LO19\", \"LO21\", \"LO16\", \"LO12\", \"LO27\", \"LO11\", \"LO14\", \"LO1\", \"LO32\", \"LO13\", \"LO5\", \"LO6\", \"LO24\", \"LO15\", \"LO17\", \"LO4\", \"LO8\", \"LO9\", \"LO23\", \"LO7\", \"LO10\", \"LO22\", \"LO20\", \"LO25\", \"LO26\", \"LO31\", \"LO2\", \"LO29\", \"LO33\", \"LO18\", \"LO30\"]\n"
     ]
    }
   ],
   "source": [
    "print (json.dumps(my_list))"
   ]
  },
  {
   "cell_type": "code",
   "execution_count": null,
   "metadata": {},
   "outputs": [],
   "source": []
  }
 ],
 "metadata": {
  "kernelspec": {
   "display_name": "Python 3",
   "language": "python",
   "name": "python3"
  },
  "language_info": {
   "codemirror_mode": {
    "name": "ipython",
    "version": 3
   },
   "file_extension": ".py",
   "mimetype": "text/x-python",
   "name": "python",
   "nbconvert_exporter": "python",
   "pygments_lexer": "ipython3",
   "version": "3.6.9"
  }
 },
 "nbformat": 4,
 "nbformat_minor": 4
}
