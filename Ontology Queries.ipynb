{
 "cells": [
  {
   "cell_type": "code",
   "execution_count": 1,
   "metadata": {},
   "outputs": [
    {
     "name": "stderr",
     "output_type": "stream",
     "text": [
      "* Owlready2 * Warning: optimized Cython parser module 'owlready2_optimized' is not available, defaulting to slower Python implementation\n"
     ]
    }
   ],
   "source": [
    "import sparql, re, types, itertools\n",
    "from owlready2 import *"
   ]
  },
  {
   "cell_type": "code",
   "execution_count": 2,
   "metadata": {},
   "outputs": [],
   "source": [
    "onto = get_ontology(\"file:///home/ufuoma/Documents/lmsontology\").load()"
   ]
  },
  {
   "cell_type": "code",
   "execution_count": 5,
   "metadata": {},
   "outputs": [],
   "source": [
    "name = 'Student103'\n",
    "userName = eval('onto.' + name)"
   ]
  },
  {
   "cell_type": "code",
   "execution_count": 6,
   "metadata": {},
   "outputs": [],
   "source": [
    "#onto.Student103.isSuitedTo"
   ]
  },
  {
   "cell_type": "code",
   "execution_count": 7,
   "metadata": {},
   "outputs": [
    {
     "name": "stdout",
     "output_type": "stream",
     "text": [
      "lmsontology.LO28\n",
      "lmsontology.LO19\n",
      "lmsontology.LO21\n",
      "lmsontology.LO16\n",
      "lmsontology.LO12\n",
      "lmsontology.LO27\n",
      "lmsontology.LO11\n",
      "lmsontology.LO14\n",
      "lmsontology.LO1\n",
      "lmsontology.LO32\n",
      "lmsontology.LO13\n",
      "lmsontology.LO5\n",
      "lmsontology.LO6\n",
      "lmsontology.LO24\n",
      "lmsontology.LO15\n",
      "lmsontology.LO17\n",
      "lmsontology.LO4\n",
      "lmsontology.LO8\n",
      "lmsontology.LO9\n",
      "lmsontology.LO23\n",
      "lmsontology.LO7\n",
      "lmsontology.LO10\n",
      "lmsontology.LO22\n",
      "lmsontology.LO20\n",
      "lmsontology.LO25\n",
      "lmsontology.LO26\n",
      "lmsontology.LO31\n",
      "lmsontology.LO2\n",
      "lmsontology.LO29\n",
      "lmsontology.LO33\n",
      "lmsontology.LO18\n",
      "lmsontology.LO30\n"
     ]
    }
   ],
   "source": [
    "for lo in userName.isSuitedTo:\n",
    "    print (lo)\n",
    "    #my_list.append(re.sub('draft_ontology.','', str(lo)))"
   ]
  },
  {
   "cell_type": "code",
   "execution_count": null,
   "metadata": {},
   "outputs": [],
   "source": [
    "print(my_list)"
   ]
  },
  {
   "cell_type": "code",
   "execution_count": null,
   "metadata": {},
   "outputs": [],
   "source": [
    "print (json.dumps(my_list))"
   ]
  },
  {
   "cell_type": "code",
   "execution_count": null,
   "metadata": {},
   "outputs": [],
   "source": []
  }
 ],
 "metadata": {
  "kernelspec": {
   "display_name": "Python 3",
   "language": "python",
   "name": "python3"
  },
  "language_info": {
   "codemirror_mode": {
    "name": "ipython",
    "version": 3
   },
   "file_extension": ".py",
   "mimetype": "text/x-python",
   "name": "python",
   "nbconvert_exporter": "python",
   "pygments_lexer": "ipython3",
   "version": "3.6.9"
  }
 },
 "nbformat": 4,
 "nbformat_minor": 4
}
